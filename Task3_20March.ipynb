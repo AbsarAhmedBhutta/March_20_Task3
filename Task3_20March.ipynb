{
 "cells": [
  {
   "cell_type": "code",
   "execution_count": 1,
   "id": "05424159",
   "metadata": {},
   "outputs": [],
   "source": [
    "import cv2\n",
    "import os\n",
    "import matplotlib.pyplot as plt\n",
    "from PIL import Image,ImageDraw,ImageEnhance\n",
    "import numpy as np"
   ]
  },
  {
   "cell_type": "markdown",
   "id": "c0ef4f1c",
   "metadata": {},
   "source": [
    "#i) rotation: create 72 images agains each single image for each 5 degree i.e.,\n",
    "for 1.jpeg there should be 1_5degree.jpeg, 1_10degree.jpeg, 1_15degree.jpeg, ...,\n",
    "1_350degree.jpeg and 1_355degree.jpeg (total 72 images) and\n",
    "72 images for all other images too. There are 7 images in cat_dog.zip so t\n",
    "he resultant folder should contain total 504 images"
   ]
  },
  {
   "cell_type": "code",
   "execution_count": 2,
   "id": "4f867838",
   "metadata": {},
   "outputs": [],
   "source": [
    "\n",
    "dir_path = 'C:/Users/Absar/cat_dog'\n",
    "output_dir_path = 'C:/Users/Absar/cat_dog_rotated'\n",
    "\n",
    "for filename in os.listdir(dir_path):\n",
    "    if filename.endswith('.jpeg'):\n",
    "        img = Image.open(os.path.join(dir_path, filename))\n",
    "        angle = 5\n",
    "        num_iterations = 72\n",
    "        for i in range(num_iterations):\n",
    "            angle = i * 5\n",
    "            new_filename = f'{os.path.splitext(filename)[0]}_{angle}degree.jpeg'\n",
    "            new_img = img.rotate(angle)\n",
    "            new_img.save(os.path.join(output_dir_path, new_filename))"
   ]
  },
  {
   "cell_type": "markdown",
   "id": "d100e2de",
   "metadata": {},
   "source": [
    "ii) brightness: change brightness to random level and create 5 images for each single image.\n",
    "    Resultant directory should contain 7*5=35 images"
   ]
  },
  {
   "cell_type": "code",
   "execution_count": 3,
   "id": "4b05f6d5",
   "metadata": {},
   "outputs": [],
   "source": [
    "dir_path = 'C:/Users/Absar/cat_dog'\n",
    "output_dir_path = 'C:/Users/Absar/cat_dog_bright'\n",
    "\n",
    "for filename in os.listdir(dir_path):\n",
    "    if filename.endswith('.jpeg'):\n",
    "        img = Image.open(os.path.join(dir_path, filename))\n",
    "\n",
    "        for i in range(5):\n",
    "            factor = float(np.random.uniform(0.5, 1.5))\n",
    "            brightness = ImageEnhance.Brightness(img).enhance(factor)\n",
    "            output_filename = os.path.splitext(filename)[0] + '_brightness_' + str(i) + '.jpeg'\n",
    "            brightness.save(os.path.join(output_dir_path, output_filename))"
   ]
  },
  {
   "cell_type": "markdown",
   "id": "7b38b355",
   "metadata": {},
   "source": [
    "iii) noise: add noise to create 5 images for each single image. Resultant directory should contain 7*5=35 images\n",
    "\n",
    "\n"
   ]
  },
  {
   "cell_type": "code",
   "execution_count": 4,
   "id": "5fe32b8e",
   "metadata": {},
   "outputs": [],
   "source": [
    "dir_path = 'C:/Users/Absar/cat_dog'\n",
    "output_dir_path = 'C:/Users/Absar/cat_dog_noise'\n",
    "\n",
    "for filename in os.listdir(dir_path):\n",
    "    if filename.endswith('.jpeg'):\n",
    "        img = Image.open(os.path.join(dir_path, filename))\n",
    "\n",
    "        for i in range(5):\n",
    "            noise = np.array(img)\n",
    "            mean = 0\n",
    "            std = np.random.uniform(10, 50)\n",
    "            noise = np.random.normal(mean, std, noise.shape).astype('uint8')\n",
    "            noise_img = Image.fromarray(np.clip(noise + noise, 0, 255))\n",
    "            output_filename = os.path.splitext(filename)[0] + '_noise_' + str(i) + '.jpeg'\n",
    "            noise_img.save(os.path.join(output_dir_path, output_filename))"
   ]
  },
  {
   "cell_type": "code",
   "execution_count": null,
   "id": "1d497f9a",
   "metadata": {},
   "outputs": [],
   "source": []
  }
 ],
 "metadata": {
  "kernelspec": {
   "display_name": "Python 3 (ipykernel)",
   "language": "python",
   "name": "python3"
  },
  "language_info": {
   "codemirror_mode": {
    "name": "ipython",
    "version": 3
   },
   "file_extension": ".py",
   "mimetype": "text/x-python",
   "name": "python",
   "nbconvert_exporter": "python",
   "pygments_lexer": "ipython3",
   "version": "3.9.13"
  }
 },
 "nbformat": 4,
 "nbformat_minor": 5
}
